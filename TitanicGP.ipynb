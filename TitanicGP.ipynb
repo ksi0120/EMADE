{
 "cells": [
  {
   "cell_type": "code",
   "execution_count": 1,
   "metadata": {},
   "outputs": [
    {
     "name": "stderr",
     "output_type": "stream",
     "text": [
      "C:\\Users\\Sean\\Miniconda3\\lib\\site-packages\\deap\\tools\\_hypervolume\\pyhv.py:33: ImportWarning: Falling back to the python version of hypervolume module. Expect this to be very slow.\n",
      "  \"module. Expect this to be very slow.\", ImportWarning)\n",
      "C:\\Users\\Sean\\Miniconda3\\lib\\importlib\\_bootstrap.py:219: ImportWarning: can't resolve package from __spec__ or __package__, falling back on __name__ and __path__\n",
      "  return f(*args, **kwds)\n",
      "C:\\Users\\Sean\\Miniconda3\\lib\\importlib\\_bootstrap.py:219: ImportWarning: can't resolve package from __spec__ or __package__, falling back on __name__ and __path__\n",
      "  return f(*args, **kwds)\n",
      "C:\\Users\\Sean\\Miniconda3\\lib\\importlib\\_bootstrap.py:219: ImportWarning: can't resolve package from __spec__ or __package__, falling back on __name__ and __path__\n",
      "  return f(*args, **kwds)\n",
      "Using TensorFlow backend.\n",
      "C:\\Users\\Sean\\Miniconda3\\lib\\importlib\\_bootstrap.py:219: ImportWarning: can't resolve package from __spec__ or __package__, falling back on __name__ and __path__\n",
      "  return f(*args, **kwds)\n"
     ]
    }
   ],
   "source": [
    "import random\n",
    "import operator\n",
    "\n",
    "import numpy as np\n",
    "import matplotlib.pyplot as plt\n",
    "\n",
    "from deap import algorithms\n",
    "from deap import base\n",
    "from deap import creator\n",
    "from deap import tools\n",
    "from deap import gp\n",
    "import pandas as pd\n",
    "from fancyimpute import IterativeImputer\n",
    "from sklearn.model_selection import train_test_split\n",
    "from sklearn.metrics import confusion_matrix"
   ]
  },
  {
   "cell_type": "code",
   "execution_count": 45,
   "metadata": {},
   "outputs": [
    {
     "ename": "NameError",
     "evalue": "name 'hof' is not defined",
     "output_type": "error",
     "traceback": [
      "\u001b[1;31m---------------------------------------------------------------------------\u001b[0m",
      "\u001b[1;31mNameError\u001b[0m                                 Traceback (most recent call last)",
      "\u001b[1;32m<ipython-input-45-c407fad459f3>\u001b[0m in \u001b[0;36m<module>\u001b[1;34m()\u001b[0m\n\u001b[0;32m     82\u001b[0m     \u001b[0mf1\u001b[0m \u001b[1;33m=\u001b[0m \u001b[0mnp\u001b[0m\u001b[1;33m.\u001b[0m\u001b[0marray\u001b[0m\u001b[1;33m(\u001b[0m\u001b[0mfitness_1\u001b[0m\u001b[1;33m)\u001b[0m\u001b[1;33m\u001b[0m\u001b[0m\n\u001b[0;32m     83\u001b[0m     \u001b[0mf2\u001b[0m \u001b[1;33m=\u001b[0m \u001b[0mnp\u001b[0m\u001b[1;33m.\u001b[0m\u001b[0marray\u001b[0m\u001b[1;33m(\u001b[0m\u001b[0mfitness_2\u001b[0m\u001b[1;33m)\u001b[0m\u001b[1;33m\u001b[0m\u001b[0m\n\u001b[1;32m---> 84\u001b[1;33m \u001b[0mprint\u001b[0m\u001b[1;33m(\u001b[0m\u001b[1;34m\"Best individual is: %s\\nwith fitness: %s\"\u001b[0m \u001b[1;33m%\u001b[0m \u001b[1;33m(\u001b[0m\u001b[0mhof\u001b[0m\u001b[1;33m[\u001b[0m\u001b[1;36m0\u001b[0m\u001b[1;33m]\u001b[0m\u001b[1;33m,\u001b[0m \u001b[0mhof\u001b[0m\u001b[1;33m[\u001b[0m\u001b[1;36m0\u001b[0m\u001b[1;33m]\u001b[0m\u001b[1;33m.\u001b[0m\u001b[0mfitness\u001b[0m\u001b[1;33m)\u001b[0m\u001b[1;33m)\u001b[0m\u001b[1;33m\u001b[0m\u001b[0m\n\u001b[0m",
      "\u001b[1;31mNameError\u001b[0m: name 'hof' is not defined"
     ]
    }
   ],
   "source": [
    "def gptrain(Train):\n",
    "    creator.create(\"FitnessMin\", base.Fitness, weights=(-1.0,-1.0))\n",
    "    creator.create(\"Individual\", gp.PrimitiveTree, fitness=creator.FitnessMin)\n",
    "    random.seed(25)\n",
    "\n",
    "    pset = gp.PrimitiveSet(\"MAIN\", arity=6)\n",
    "    pset.addPrimitive(np.add, arity=2)\n",
    "    pset.addPrimitive(np.subtract, arity=2)\n",
    "    pset.addPrimitive(np.multiply, arity=2)\n",
    "    pset.addPrimitive(np.negative, arity=1)\n",
    "    pset.addPrimitive(np.sin, arity=1)\n",
    "    pset.addPrimitive(np.cos, arity=1)\n",
    "    pset.addPrimitive(np.tan, arity=1)\n",
    "    pset.renameArguments(ARG0='x1')\n",
    "    pset.renameArguments(ARG1='x2')\n",
    "    pset.renameArguments(ARG2='x3')\n",
    "    pset.renameArguments(ARG3='x4')\n",
    "    pset.renameArguments(ARG4='x5')\n",
    "    pset.renameArguments(ARG5='x6')\n",
    "    def evalSymbReg(individual, Train, pset):    \n",
    "        Ytrain = Train[0].values.tolist()\n",
    "        Xtrain = Train.drop(columns=[0]).values.tolist()\n",
    "        xtr,xte,ytr,yte = train_test_split(Xtrain, Ytrain, test_size=0.33, random_state=10)\n",
    "        func=gp.compile(expr=individual, pset=pset)\n",
    "        ypr =[]\n",
    "        for a in range(len(xtr)):\n",
    "            ypr.append(func(xtr[a][0],xtr[a][1],xtr[a][2],xtr[a][3],xtr[a][4],xtr[a][5]))\n",
    "        max_ypr= max(ypr)/2\n",
    "        for value in range(len(ypr)):\n",
    "            if ypr[value]<=0:\n",
    "                ypr[value]=0\n",
    "            else:\n",
    "                ypr[value]=1\n",
    "               \n",
    "        tn, fp, fn, tp = confusion_matrix(ytr, ypr).ravel()\n",
    "        return(fp, fn)\n",
    "    toolbox = base.Toolbox()\n",
    "    toolbox.register(\"expr\", gp.genHalfAndHalf, pset=pset, min_=1, max_=2)\n",
    "    toolbox.register(\"individual\", tools.initIterate, creator.Individual, toolbox.expr)\n",
    "    toolbox.register(\"population\", tools.initRepeat, list, toolbox.individual)\n",
    "    toolbox.register(\"compile\", gp.compile, pset=pset)\n",
    "    toolbox.register(\"evaluate\", evalSymbReg, Train = trainXdf,pset=pset)\n",
    "    toolbox.register(\"select\", tools.selSPEA2)\n",
    "    toolbox.register(\"mate\", gp.cxOnePoint)\n",
    "    toolbox.register(\"expr_mut\", gp.genFull, min_=0, max_=2)\n",
    "    toolbox.register(\"mutate\", gp.mutNodeReplacement, pset=pset)\n",
    " \n",
    "    \n",
    "    NGEN = 50\n",
    "    MU = 300\n",
    "    LAMBDA = 100\n",
    "    CXPB = 0.2\n",
    "    MUTPB = 0.5\n",
    "\n",
    "    pop = toolbox.population(n=MU)\n",
    "    hof = tools.ParetoFront()\n",
    "    stats = tools.Statistics(lambda ind: ind.fitness.values)\n",
    "    stats.register(\"avg\", np.mean, axis=0)\n",
    "    stats.register(\"std\", np.std, axis=0)\n",
    "    stats.register(\"min\", np.min, axis=0)\n",
    "    stats.register(\"max\", np.max, axis=0)\n",
    "\n",
    "    pop, logbook = algorithms.eaMuPlusLambda(pop, toolbox, MU, LAMBDA, CXPB, MUTPB, NGEN, stats,\n",
    "                              halloffame=hof)\n",
    "    fitness_1 = [ind.fitness.values[0] for ind in hof]\n",
    "    fitness_2 = [ind.fitness.values[1] for ind in hof]\n",
    "    pop_1 = [ind.fitness.values[0] for ind in pop]\n",
    "    pop_2 = [ind.fitness.values[1] for ind in pop]\n",
    "\n",
    "    '''Print dominated population for debugging'''\n",
    "    # for ind in pop:\n",
    "    #     print(ind.fitness)\n",
    "\n",
    "    plt.scatter(pop_1, pop_2, color='b')\n",
    "    plt.scatter(fitness_1, fitness_2, color='r')\n",
    "    plt.plot(fitness_1, fitness_2, color='r', drawstyle='steps-post')\n",
    "    plt.xlabel(\"Sum of False Positives\")\n",
    "    plt.ylabel(\"Sum of False Negatives\")\n",
    "    plt.title(\"Pareto Front\")\n",
    "    plt.show()\n",
    "\n",
    "    f1 = np.array(fitness_1)\n",
    "    f2 = np.array(fitness_2)\n",
    "print(\"Best individual is: %s\\nwith fitness: %s\" % (hof[0], hof[0].fitness))"
   ]
  },
  {
   "cell_type": "code",
   "execution_count": 46,
   "metadata": {},
   "outputs": [
    {
     "name": "stderr",
     "output_type": "stream",
     "text": [
      "C:\\Users\\Sean\\Miniconda3\\lib\\site-packages\\deap\\creator.py:141: RuntimeWarning: A class named 'FitnessMin' has already been created and it will be overwritten. Consider deleting previous creation of that class or rename it.\n",
      "  RuntimeWarning)\n",
      "C:\\Users\\Sean\\Miniconda3\\lib\\site-packages\\deap\\creator.py:141: RuntimeWarning: A class named 'Individual' has already been created and it will be overwritten. Consider deleting previous creation of that class or rename it.\n",
      "  RuntimeWarning)\n"
     ]
    },
    {
     "name": "stdout",
     "output_type": "stream",
     "text": [
      "gen\tnevals\tavg                        \tstd                        \tmin    \tmax        \n",
      "0  \t300   \t[164.41666667 112.92333333]\t[143.22510158  85.9353485 ]\t[0. 0.]\t[358. 238.]\n",
      "1  \t71    \t[167.58666667 107.39333333]\t[158.43449484  95.68715669]\t[0. 0.]\t[358. 238.]\n",
      "2  \t64    \t[117.76 134.8 ]            \t[138.55562926  87.60159816]\t[0. 0.]\t[358. 238.]\n",
      "3  \t76    \t[158.40333333 103.08666667]\t[142.3021925   78.03426057]\t[0. 0.]\t[358. 238.]\n",
      "4  \t74    \t[173.07        94.50333333]\t[151.86500069  85.67689297]\t[0. 0.]\t[358. 238.]\n",
      "5  \t68    \t[129.28333333 116.05666667]\t[139.70429386  84.29788524]\t[0. 0.]\t[350. 238.]\n",
      "6  \t73    \t[145.66333333  98.31666667]\t[144.43193318  82.10024191]\t[0. 0.]\t[358. 237.]\n",
      "7  \t71    \t[114.22666667 109.74333333]\t[136.01647678  85.86313211]\t[0. 0.]\t[350. 237.]\n",
      "8  \t76    \t[137.22666667  83.87      ]\t[138.18862214  70.64667791]\t[0. 0.]\t[350. 237.]\n",
      "9  \t69    \t[147.09        68.28666667]\t[138.74994979  60.04019061]\t[0. 0.]\t[350. 238.]\n",
      "10 \t68    \t[145.07333333  60.72666667]\t[136.87827179  48.01387253]\t[0. 0.]\t[350. 232.]\n",
      "11 \t67    \t[167.64  56.9 ]            \t[143.95167152  52.66627637]\t[0. 0.]\t[350. 232.]\n",
      "12 \t71    \t[175.72666667  56.57666667]\t[148.60952848  55.05177069]\t[0. 0.]\t[350. 232.]\n",
      "13 \t76    \t[173.63        58.85333333]\t[148.5884465  56.8467984]  \t[0. 0.]\t[350. 232.]\n",
      "14 \t64    \t[169.83333333  61.86333333]\t[148.34396591  58.62176492]\t[0. 0.]\t[350. 232.]\n",
      "15 \t71    \t[165.58        65.61666667]\t[147.52652959  60.23860658]\t[0. 0.]\t[350. 232.]\n",
      "16 \t66    \t[160.64333333  68.94666667]\t[146.50457145  60.78023655]\t[0. 0.]\t[350. 232.]\n",
      "17 \t71    \t[151.60666667  74.60666667]\t[144.69945389  62.47467718]\t[0. 0.]\t[350. 232.]\n",
      "18 \t65    \t[150.12666667  76.93666667]\t[144.95522512  64.02446919]\t[0. 0.]\t[350. 232.]\n",
      "19 \t75    \t[170.41        68.79666667]\t[150.45702122  68.27958691]\t[0. 0.]\t[350. 238.]\n",
      "20 \t74    \t[185.26  62.94]            \t[152.50621539  68.05823291]\t[0. 0.]\t[350. 232.]\n",
      "21 \t76    \t[181.87  66.2 ]            \t[152.46846592  69.55233042]\t[0. 0.]\t[350. 232.]\n",
      "22 \t62    \t[173.17666667  71.53      ]\t[152.11571951  71.43553574]\t[0. 0.]\t[350. 232.]\n",
      "23 \t69    \t[169.6         74.61666667]\t[151.66427837  73.7868759 ]\t[0. 0.]\t[350. 232.]\n",
      "24 \t74    \t[134.81666667  88.67      ]\t[144.35819936  74.17053166]\t[0. 0.]\t[350. 232.]\n",
      "25 \t70    \t[132.10666667  93.68333333]\t[143.79302935  76.99465169]\t[0. 0.]\t[350. 232.]\n",
      "26 \t68    \t[127.66  98.59]            \t[142.59704672  79.30461462]\t[0. 0.]\t[350. 232.]\n",
      "27 \t66    \t[127.15  99.73]            \t[141.02893616  79.74072841]\t[0. 0.]\t[350. 232.]\n",
      "28 \t72    \t[118.31333333 106.40333333]\t[138.33378169  81.82901272]\t[0. 0.]\t[350. 232.]\n",
      "29 \t72    \t[109.84666667 111.89666667]\t[133.6212676   82.15785206]\t[0. 0.]\t[350. 232.]\n",
      "30 \t77    \t[106.03666667 113.41333333]\t[131.10223233  81.27817966]\t[0. 0.]\t[350. 232.]\n",
      "31 \t70    \t[107.07666667 111.62666667]\t[130.05354329  80.51898713]\t[0. 0.]\t[350. 232.]\n",
      "32 \t65    \t[110.01333333 109.46333333]\t[130.37637755  80.23682855]\t[0. 0.]\t[350. 232.]\n",
      "33 \t70    \t[111.31 108.01]            \t[129.8544335   79.99381164]\t[0. 0.]\t[350. 232.]\n",
      "34 \t74    \t[108.78333333 109.49      ]\t[129.79163965  80.015727  ]\t[0. 0.]\t[350. 232.]\n",
      "35 \t67    \t[116.75       105.34333333]\t[132.77535226  82.7516694 ]\t[0. 0.]\t[350. 232.]\n",
      "36 \t79    \t[119.06666667 103.32333333]\t[132.59706717  82.30807244]\t[0. 0.]\t[350. 232.]\n",
      "37 \t69    \t[120.67333333 101.87333333]\t[132.68521629  81.74063018]\t[0. 0.]\t[350. 232.]\n",
      "38 \t75    \t[123.12666667  99.87666667]\t[132.17071267  81.18691267]\t[0. 0.]\t[350. 232.]\n",
      "39 \t73    \t[123.42        98.85666667]\t[131.48451214  80.44465668]\t[0. 0.]\t[350. 232.]\n",
      "40 \t69    \t[123.60666667  97.8       ]\t[130.67595528  79.62867993]\t[0. 0.]\t[350. 232.]\n",
      "41 \t72    \t[125.23666667  96.25333333]\t[130.54976314  79.02427363]\t[0. 0.]\t[350. 232.]\n",
      "42 \t74    \t[124.75  95.08]            \t[128.82238742  78.00854825]\t[0. 0.]\t[350. 232.]\n",
      "43 \t63    \t[125.99333333  93.56      ]\t[129.4266586   77.27949103]\t[0. 0.]\t[350. 232.]\n",
      "44 \t75    \t[124.33        92.89333333]\t[128.54091865  75.98347598]\t[0. 0.]\t[350. 232.]\n",
      "45 \t70    \t[128.14666667  90.97      ]\t[130.19218546  75.70822787]\t[0. 0.]\t[350. 232.]\n",
      "46 \t63    \t[129.68666667  89.47666667]\t[130.41219967  74.98237208]\t[0. 0.]\t[350. 232.]\n",
      "47 \t74    \t[124.67        92.61333333]\t[131.07140967  75.41474539]\t[0. 0.]\t[350. 232.]\n",
      "48 \t59    \t[123.92666667  95.37333333]\t[134.88813126  76.45378095]\t[0. 0.]\t[350. 232.]\n",
      "49 \t67    \t[126.42666667  94.29      ]\t[135.75570444  76.18870804]\t[0. 0.]\t[350. 232.]\n",
      "50 \t70    \t[124.98666667  94.19666667]\t[134.76940734  75.17360788]\t[0. 0.]\t[350. 232.]\n"
     ]
    },
    {
     "data": {
      "image/png": "[encoded data removed]",
      "text/plain": [
       "<Figure size 432x288 with 1 Axes>"
      ]
     },
     "metadata": {},
     "output_type": "display_data"
    }
   ],
   "source": [
    "train = pd.read_csv(\"train.csv\")\n",
    "test = pd.read_csv(\"test.csv\")\n",
    "train.drop(columns=['Cabin','Name','Ticket','SibSp'], inplace=True)\n",
    "test.drop(columns=['Cabin','Name','Ticket','SibSp'], inplace=True)\n",
    "columns_map = {'Embarked': {'C': 0, 'Q': 1, 'S': 2}, 'Sex': {'male': 0, 'female': 1}}\n",
    "train.replace(columns_map, inplace=True)\n",
    "test.replace(columns_map,inplace =True)\n",
    "train.set_index(keys=['PassengerId'], drop=True, inplace=True)\n",
    "test.set_index(keys=['PassengerId'], drop=True, inplace=True)\n",
    "solver = IterativeImputer(n_iter=5, sample_posterior=True, random_state=1)\n",
    "TestX=solver.fit_transform(test)\n",
    "TestXdf = pd.DataFrame(TestX, index=test.index)\n",
    "TrainX= solver.fit_transform(train)\n",
    "trainXdf=pd.DataFrame(TrainX, index=train)\n",
    "GeneticFunction = gptrain(trainXdf)"
   ]
  },
  {
   "cell_type": "code",
   "execution_count": null,
   "metadata": {},
   "outputs": [],
   "source": []
  },
  {
   "cell_type": "code",
   "execution_count": null,
   "metadata": {},
   "outputs": [],
   "source": []
  },
  {
   "cell_type": "code",
   "execution_count": null,
   "metadata": {},
   "outputs": [],
   "source": []
  },
  {
   "cell_type": "code",
   "execution_count": null,
   "metadata": {},
   "outputs": [],
   "source": []
  }
 ],
 "metadata": {
  "kernelspec": {
   "display_name": "Python 3",
   "language": "python",
   "name": "python3"
  },
  "language_info": {
   "codemirror_mode": {
    "name": "ipython",
    "version": 3
   },
   "file_extension": ".py",
   "mimetype": "text/x-python",
   "name": "python",
   "nbconvert_exporter": "python",
   "pygments_lexer": "ipython3",
   "version": "3.6.4"
  }
 },
 "nbformat": 4,
 "nbformat_minor": 2
}
